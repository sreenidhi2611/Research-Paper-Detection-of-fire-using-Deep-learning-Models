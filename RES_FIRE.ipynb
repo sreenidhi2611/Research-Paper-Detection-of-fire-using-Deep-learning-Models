{
  "cells": [
    {
      "cell_type": "code",
      "execution_count": null,
      "id": "c1b59712",
      "metadata": {
        "id": "c1b59712"
      },
      "outputs": [],
      "source": [
        "import os                         # For operating system\n",
        "import re                         # Regular expression\n",
        "import cv2                        # Image processing\n",
        "import glob                       # Unix style pathname pattern expansion\n",
        "import random                     # For random number generation\n",
        "import shutil                     # High-level file operations\n",
        "import requests                   # Reading url\n",
        "from PIL import Image             # Python Image Library\n",
        "from bs4 import BeautifulSoup     # Web scrapping\n",
        "import matplotlib.pyplot as plt   # Making plots\n",
        "import matplotlib.image as mpimg  # To view color image\n",
        "%matplotlib inline\n",
        "import time"
      ]
    },
    {
      "cell_type": "code",
      "execution_count": null,
      "id": "968ca0a0",
      "metadata": {
        "id": "968ca0a0"
      },
      "outputs": [],
      "source": [
        "from keywords import fire_keywords, night_keywords"
      ]
    },
    {
      "cell_type": "code",
      "execution_count": null,
      "id": "727ef4c5",
      "metadata": {
        "id": "727ef4c5"
      },
      "outputs": [],
      "source": [
        "MIN_FILE_SIZE_BYTES = 1024"
      ]
    },
    {
      "cell_type": "code",
      "execution_count": null,
      "id": "ba1feae0",
      "metadata": {
        "id": "ba1feae0"
      },
      "outputs": [],
      "source": [
        "\n",
        "def download_images(query, dl_path, base_url, max_images=20000):\n",
        "    os.makedirs(dl_path, exist_ok=True)\n",
        "    page = 1\n",
        "    total_downloaded = 0\n",
        "    max_retry_attempts = 3\n",
        "    retry_delay = 5  # seconds\n",
        "\n",
        "    # Maintain a set of downloaded image URLs\n",
        "    downloaded_urls = set()\n",
        "\n",
        "    while total_downloaded < max_images:\n",
        "        # Construct the URL with the search query and pagination\n",
        "        url = f\"{base_url}&search_page={page}\"\n",
        "\n",
        "        for _ in range(max_retry_attempts):\n",
        "            try:\n",
        "                # Send an HTTP GET request\n",
        "                response = requests.get(url)\n",
        "\n",
        "                if response.status_code == 200:\n",
        "                    # Parse the HTML content of the page\n",
        "                    soup = BeautifulSoup(response.text, \"html.parser\")\n",
        "\n",
        "                    # Find all image elements on the page\n",
        "                    img_elements = soup.find_all(\"img\")\n",
        "\n",
        "                    for img_element in img_elements:\n",
        "                        img_url = img_element.get(\"src\")\n",
        "\n",
        "                        # Check if the image URL has already been downloaded\n",
        "                        if img_url in downloaded_urls:\n",
        "                            print(f\"Skipping duplicate image: {img_url}\")\n",
        "                            continue\n",
        "\n",
        "                        # Download the image\n",
        "                        if img_url and img_url.startswith(\"https://\"):\n",
        "                            img_data = requests.get(img_url).content\n",
        "\n",
        "                            # Check if the image is blank (below the minimum file size)\n",
        "                            if len(img_data) < MIN_FILE_SIZE_BYTES:\n",
        "                                print(f\"Skipping blank image: {img_url}\")\n",
        "                                continue\n",
        "\n",
        "                            with open(os.path.join(dl_path, f\"{query}_{total_downloaded + 1}.jpg\"), \"wb\") as img_file:\n",
        "                                img_file.write(img_data)\n",
        "\n",
        "                            # Add the downloaded URL to the set\n",
        "                            downloaded_urls.add(img_url)\n",
        "                            total_downloaded += 1\n",
        "\n",
        "                            if total_downloaded >= max_images:\n",
        "                                break\n",
        "                    break\n",
        "                else:\n",
        "                    print(f\"Failed to fetch page {page}. Status code: {response.status_code}\")\n",
        "            except requests.RequestException as e:\n",
        "                print(f\"Request failed: {e}\")\n",
        "                print(f\"Retrying in {retry_delay} seconds...\")\n",
        "                time.sleep(retry_delay)\n",
        "                continue\n",
        "\n",
        "        # Increment the page number for the next iteration\n",
        "        page += 1\n"
      ]
    },
    {
      "cell_type": "code",
      "execution_count": null,
      "id": "70b3c8c9",
      "metadata": {
        "id": "70b3c8c9"
      },
      "outputs": [],
      "source": [
        "if __name__ == \"__main__\":\n",
        "    # Define the search query, download path, and base URL\n",
        "    query = \"fire\"\n",
        "    dl_path = \"E:/Project/Fire_det/Fire2_set\"\n",
        "    base_url = f\"https://stock.adobe.com/search/images?hide_panel=true&k={query}+&search_type=usertyped\"\n",
        "\n",
        "    # Set the maximum number of images to download\n",
        "    max_images = 20000\n",
        "\n",
        "    # Download images\n",
        "    download_images(query, dl_path, base_url, max_images)"
      ]
    }
  ],
  "metadata": {
    "kernelspec": {
      "display_name": "Python 3 (ipykernel)",
      "language": "python",
      "name": "python3"
    },
    "language_info": {
      "codemirror_mode": {
        "name": "ipython",
        "version": 3
      },
      "file_extension": ".py",
      "mimetype": "text/x-python",
      "name": "python",
      "nbconvert_exporter": "python",
      "pygments_lexer": "ipython3",
      "version": "3.11.3"
    },
    "colab": {
      "provenance": []
    }
  },
  "nbformat": 4,
  "nbformat_minor": 5
}