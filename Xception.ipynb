{
  "cells": [
    {
      "cell_type": "code",
      "execution_count": null,
      "metadata": {
        "id": "qR-9AI0GOkmR"
      },
      "outputs": [],
      "source": [
        "import tensorflow as tf\n",
        "from tensorflow.keras.applications import Xception\n",
        "from tensorflow.keras.models import Sequential\n",
        "from tensorflow.keras.layers import Dense, Flatten, Dropout, GlobalAveragePooling2D\n",
        "from tensorflow.keras.preprocessing.image import ImageDataGenerator\n",
        "from sklearn.metrics import classification_report, confusion_matrix\n",
        "from tensorflow.keras.models import Model\n",
        "import matplotlib.pyplot as plt\n",
        "import numpy as np\n",
        "import cv2"
      ]
    },
    {
      "cell_type": "code",
      "execution_count": null,
      "metadata": {
        "id": "HJrTemDrOkmX"
      },
      "outputs": [],
      "source": [
        "base_model = Xception(weights='imagenet', include_top=False, input_shape=(100, 100, 3))\n",
        "x = base_model.output\n",
        "x = GlobalAveragePooling2D()(x)\n",
        "x = Dense(128, activation='relu')(x)\n",
        "predictions = Dense(2, activation='softmax')(x)\n",
        "model = Model(inputs=base_model.input, outputs=predictions)\n",
        "model.compile(optimizer='adam', loss='binary_crossentropy', metrics=['accuracy'])"
      ]
    },
    {
      "cell_type": "code",
      "execution_count": null,
      "metadata": {
        "id": "NLZPu03AOkmY",
        "outputId": "1bdc213c-5f62-4981-8609-f617131ee97e"
      },
      "outputs": [
        {
          "name": "stdout",
          "output_type": "stream",
          "text": [
            "Found 10833 images belonging to 2 classes.\n",
            "Found 1353 images belonging to 2 classes.\n",
            "Found 1356 images belonging to 2 classes.\n"
          ]
        }
      ],
      "source": [
        "# Data preprocessing and augmentation (same as in the VGG19 example)\n",
        "train_datagen = ImageDataGenerator(\n",
        "    rescale=1./255,\n",
        "    rotation_range=40,\n",
        "    width_shift_range=0.2,\n",
        "    height_shift_range=0.2,\n",
        "    shear_range=0.2,\n",
        "    zoom_range=0.2,\n",
        "    horizontal_flip=True,\n",
        "    fill_mode='nearest'\n",
        ")\n",
        "\n",
        "val_datagen = ImageDataGenerator(rescale=1./255)\n",
        "test_datagen = ImageDataGenerator(rescale=1./255)\n",
        "# Load and preprocess your dataset (replace with your data loading code)\n",
        "train_dir = 'Train_test_val/train'\n",
        "val_dir = 'Train_test_val/val'\n",
        "test_dir= 'Train_test_val/test'\n",
        "batch_size = 32\n",
        "\n",
        "train_generator = train_datagen.flow_from_directory(\n",
        "    train_dir,\n",
        "    target_size=(299, 299),\n",
        "    batch_size=batch_size,\n",
        "    class_mode='binary'\n",
        ")\n",
        "\n",
        "val_generator = val_datagen.flow_from_directory(\n",
        "    val_dir,\n",
        "    target_size=(299, 299),\n",
        "    batch_size=batch_size,\n",
        "    class_mode='binary'\n",
        ")\n",
        "\n",
        "test_generator = test_datagen.flow_from_directory(\n",
        "    test_dir,\n",
        "    target_size=(100, 100),\n",
        "    batch_size=batch_size,\n",
        "    class_mode='binary'\n",
        ")\n"
      ]
    },
    {
      "cell_type": "code",
      "execution_count": null,
      "metadata": {
        "id": "IUz6cjjVOkma",
        "outputId": "ac0b3594-d822-48cb-8dfe-adab2e913cf2"
      },
      "outputs": [
        {
          "name": "stdout",
          "output_type": "stream",
          "text": [
            "Epoch 1/15\n",
            "339/339 [==============================] - 525s 2s/step - loss: 0.2335 - accuracy: 0.9119\n",
            "Epoch 2/15\n",
            "339/339 [==============================] - 516s 2s/step - loss: 0.1970 - accuracy: 0.9292\n",
            "Epoch 3/15\n",
            "339/339 [==============================] - 518s 2s/step - loss: 0.1917 - accuracy: 0.9259\n",
            "Epoch 4/15\n",
            "339/339 [==============================] - 514s 2s/step - loss: 0.1809 - accuracy: 0.9324\n",
            "Epoch 5/15\n",
            "339/339 [==============================] - 512s 2s/step - loss: 0.1701 - accuracy: 0.9362\n",
            "Epoch 6/15\n",
            "339/339 [==============================] - 508s 1s/step - loss: 0.1625 - accuracy: 0.9415\n",
            "Epoch 7/15\n",
            "339/339 [==============================] - 507s 1s/step - loss: 0.1696 - accuracy: 0.9387\n",
            "Epoch 8/15\n",
            "339/339 [==============================] - 525s 2s/step - loss: 0.1507 - accuracy: 0.9478\n",
            "Epoch 9/15\n",
            "339/339 [==============================] - 551s 2s/step - loss: 0.1464 - accuracy: 0.9462\n",
            "Epoch 10/15\n",
            "339/339 [==============================] - 508s 1s/step - loss: 0.1402 - accuracy: 0.9492\n",
            "Epoch 11/15\n",
            "339/339 [==============================] - 507s 1s/step - loss: 0.1278 - accuracy: 0.9545\n",
            "Epoch 12/15\n",
            "339/339 [==============================] - 546s 2s/step - loss: 0.1390 - accuracy: 0.9505\n",
            "Epoch 13/15\n",
            "339/339 [==============================] - 509s 2s/step - loss: 0.1292 - accuracy: 0.9544\n",
            "Epoch 14/15\n",
            "339/339 [==============================] - 511s 2s/step - loss: 0.1244 - accuracy: 0.9542\n",
            "Epoch 15/15\n",
            "339/339 [==============================] - 509s 2s/step - loss: 0.1263 - accuracy: 0.9541\n"
          ]
        },
        {
          "data": {
            "text/plain": [
              "<keras.src.callbacks.History at 0x2b53bbdd250>"
            ]
          },
          "execution_count": 5,
          "metadata": {},
          "output_type": "execute_result"
        }
      ],
      "source": [
        "# Train the Xception model\n",
        "model.fit(train_generator,epochs=15,validation_data=test_generator)\n"
      ]
    },
    {
      "cell_type": "code",
      "execution_count": null,
      "metadata": {
        "id": "8zAsNLorwi2Z"
      },
      "outputs": [],
      "source": [
        "y_true = test_generator.classes\n",
        "y_true"
      ]
    },
    {
      "cell_type": "code",
      "execution_count": null,
      "metadata": {
        "id": "Rs_GPVAewi2Z"
      },
      "outputs": [],
      "source": [
        "y_pred = model.predict(test_generator)\n",
        "y_pred"
      ]
    },
    {
      "cell_type": "code",
      "execution_count": null,
      "metadata": {
        "id": "79v_TT2-wi2a"
      },
      "outputs": [],
      "source": [
        "y_pred_classes = (y_pred > 0.5).astype(int)\n",
        "y_pred_classes"
      ]
    },
    {
      "cell_type": "code",
      "execution_count": null,
      "metadata": {
        "id": "G3839Wcvwi2b"
      },
      "outputs": [],
      "source": [
        "print(\"Confusion Matrix:\")\n",
        "print(confusion_matrix(y_true, y_pred_classes))\n",
        "\n",
        "print(\"Classification Report:\")\n",
        "print(classification_report(y_true, y_pred_classes))\n"
      ]
    },
    {
      "cell_type": "code",
      "execution_count": null,
      "metadata": {
        "id": "oPGijPMYOkme"
      },
      "outputs": [],
      "source": []
    }
  ],
  "metadata": {
    "colab": {
      "provenance": []
    },
    "kernelspec": {
      "display_name": "Python 3 (ipykernel)",
      "language": "python",
      "name": "python3"
    },
    "language_info": {
      "codemirror_mode": {
        "name": "ipython",
        "version": 3
      },
      "file_extension": ".py",
      "mimetype": "text/x-python",
      "name": "python",
      "nbconvert_exporter": "python",
      "pygments_lexer": "ipython3",
      "version": "3.11.3"
    }
  },
  "nbformat": 4,
  "nbformat_minor": 0
}