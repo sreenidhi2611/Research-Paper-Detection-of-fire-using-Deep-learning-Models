{
  "cells": [
    {
      "cell_type": "code",
      "execution_count": null,
      "metadata": {
        "id": "N93cm5gDaKYm"
      },
      "outputs": [],
      "source": [
        "import matplotlib.pyplot as plt\n",
        "import seaborn as sns\n",
        "\n",
        "import keras\n",
        "from keras.models import Sequential\n",
        "from keras.layers import Dense, Conv2D , MaxPool2D , Flatten , Dropout,LSTM, Reshape\n",
        "from keras.preprocessing.image import ImageDataGenerator\n",
        "from tensorflow.keras.optimizers import Adam\n",
        "from keras.regularizers import l2\n",
        "from keras.layers import TimeDistributed, Conv2D, MaxPooling2D, Flatten, Dropout, Dense,LSTM\n",
        "\n",
        "from sklearn.metrics import classification_report,confusion_matrix\n",
        "\n",
        "import tensorflow as tf\n",
        "\n",
        "import cv2\n",
        "import os\n",
        "\n",
        "import numpy as np\n",
        "\n",
        "\n",
        "\n",
        "\n"
      ]
    },
    {
      "cell_type": "code",
      "execution_count": null,
      "metadata": {
        "id": "5FiyMyupaKYp"
      },
      "outputs": [],
      "source": [
        "base_dir = 'D:/Projects/Research/Train_test_val'\n",
        "\n",
        "train_dir = os.path.join(base_dir, 'train')\n",
        "train_dir_fire = os.path.join(train_dir, '1')\n",
        "train_dir_nofire = os.path.join(train_dir, '0')\n",
        "\n",
        "test_dir = os.path.join(base_dir, 'test')\n",
        "test_dir_fire = os.path.join(test_dir, '1')\n",
        "test_dir_nofire = os.path.join(test_dir, '0')\n",
        "\n",
        "val_dir = os.path.join(base_dir, 'test')\n",
        "val_dir_fire = os.path.join(val_dir, '1')\n",
        "val_dir_nofire = os.path.join(val_dir, '0')"
      ]
    },
    {
      "cell_type": "code",
      "execution_count": null,
      "metadata": {
        "id": "G_ysOrSzaKYq",
        "outputId": "db48e774-4f9e-4c51-f1d3-b3180c076f08"
      },
      "outputs": [
        {
          "name": "stdout",
          "output_type": "stream",
          "text": [
            "Found 9480 images belonging to 2 classes.\n",
            "Found 2033 images belonging to 2 classes.\n",
            "Found 2033 images belonging to 2 classes.\n"
          ]
        }
      ],
      "source": [
        "\n",
        "train_datagen = ImageDataGenerator(rescale=1./255,\n",
        "                                  rotation_range=40,\n",
        "                                  width_shift_range=0.2,\n",
        "                                  height_shift_range=0.2,\n",
        "                                  shear_range=0.2,\n",
        "                                  zoom_range=0.2,\n",
        "                                  horizontal_flip=True)\n",
        "\n",
        "test_datagen = ImageDataGenerator(rescale=1./255)\n",
        "\n",
        "val_datagen = ImageDataGenerator(rescale=1./255)\n",
        "\n",
        "train_generator = train_datagen.flow_from_directory(train_dir,\n",
        "                                                   target_size=(224, 224),\n",
        "                                                   batch_size=32,\n",
        "                                                   class_mode='binary')\n",
        "\n",
        "test_generator = test_datagen.flow_from_directory(test_dir,\n",
        "                                                   target_size=(224, 224),\n",
        "                                                   batch_size=32,\n",
        "                                                   class_mode='binary')\n",
        "\n",
        "val_generator = test_datagen.flow_from_directory(val_dir,\n",
        "                                                   target_size=(224, 224),\n",
        "                                                   batch_size=32,\n",
        "                                                   class_mode='binary')"
      ]
    },
    {
      "cell_type": "code",
      "execution_count": null,
      "metadata": {
        "id": "BRecZfYvaKYr"
      },
      "outputs": [],
      "source": []
    },
    {
      "cell_type": "code",
      "execution_count": null,
      "metadata": {
        "id": "cwlEiUe8aKYr"
      },
      "outputs": [],
      "source": []
    },
    {
      "cell_type": "code",
      "execution_count": null,
      "metadata": {
        "id": "H-AaBDS-aKYr"
      },
      "outputs": [],
      "source": []
    },
    {
      "cell_type": "code",
      "execution_count": null,
      "metadata": {
        "id": "K7Yi0SYsaKYr"
      },
      "outputs": [],
      "source": [
        "timesteps = 10\n",
        "batch_size = 32\n",
        "epochs = 20"
      ]
    },
    {
      "cell_type": "code",
      "execution_count": null,
      "metadata": {
        "id": "Ta9kIhkhaKYs",
        "outputId": "0cb986fa-b344-445d-92df-3821e1b1d4e5"
      },
      "outputs": [
        {
          "name": "stdout",
          "output_type": "stream",
          "text": [
            "'NoneType' object is not subscriptable\n",
            "'NoneType' object is not subscriptable\n"
          ]
        }
      ],
      "source": [
        "# import os\n",
        "# import cv2\n",
        "# import numpy as np\n",
        "\n",
        "labels = ['Fire', 'Non-fire']\n",
        "img_size = 64\n",
        "\n",
        "def get_data(data_dir):\n",
        "    data = []\n",
        "    for label in labels:\n",
        "        path = os.path.join(data_dir, label)\n",
        "        class_num = labels.index(label)\n",
        "        for img in os.listdir(path):\n",
        "            try:\n",
        "                img_path = os.path.join(path, img)\n",
        "                img_arr = cv2.imread(img_path)[...,::-1]  # Convert BGR to RGB format\n",
        "                resized_arr = cv2.resize(img_arr, (img_size, img_size))  # Reshaping images to the preferred size\n",
        "                data.append([resized_arr, class_num])\n",
        "            except Exception as e:\n",
        "                print(e)\n",
        "    return np.array(data, dtype=object)\n",
        "\n",
        "# Example usage:\n",
        "train_data = get_data(r\"D:/Projects/Research/Train_test_val/train/\")\n",
        "val_data = get_data(r\"D:/Projects/Research/Train_test_val/val/\")\n",
        "test_data = get_data(r\"D:/Projects/Research/Train_test_val/test/\")\n",
        "\n",
        "# Now, train_data, val_data, and test_data should contain the image data and corresponding labels.\n"
      ]
    },
    {
      "cell_type": "code",
      "execution_count": null,
      "metadata": {
        "id": "2OqqcWwbaKYs",
        "outputId": "baa4f36e-d1f1-4e00-c9f8-7036ae6465e7"
      },
      "outputs": [
        {
          "name": "stdout",
          "output_type": "stream",
          "text": [
            "(9479, 2)\n"
          ]
        }
      ],
      "source": [
        "print(train_data.shape)"
      ]
    },
    {
      "cell_type": "code",
      "execution_count": null,
      "metadata": {
        "id": "NJHbA0abaKYs",
        "outputId": "66bd157a-542d-4815-f42d-106b4582089b"
      },
      "outputs": [
        {
          "data": {
            "text/plain": [
              "4667"
            ]
          },
          "execution_count": 7,
          "metadata": {},
          "output_type": "execute_result"
        }
      ],
      "source": [
        "import os\n",
        "len(os.listdir(\"D:/Projects/Research/Train_test_val/train/Fire\"))"
      ]
    },
    {
      "cell_type": "code",
      "execution_count": null,
      "metadata": {
        "id": "B-YxvXZQaKYt",
        "outputId": "3dbd1fb0-8db2-483d-a91a-7645dae46d03"
      },
      "outputs": [
        {
          "data": {
            "text/plain": [
              "4813"
            ]
          },
          "execution_count": 8,
          "metadata": {},
          "output_type": "execute_result"
        }
      ],
      "source": [
        "len(os.listdir(\"D:/Projects/Research/Train_test_val/train/Non-fire\"))"
      ]
    },
    {
      "cell_type": "code",
      "execution_count": null,
      "metadata": {
        "id": "v86jeHWxaKYt",
        "outputId": "a153ee63-5df7-46c3-8b87-1adac70d408d"
      },
      "outputs": [
        {
          "data": {
            "text/plain": [
              "1001"
            ]
          },
          "execution_count": 9,
          "metadata": {},
          "output_type": "execute_result"
        }
      ],
      "source": [
        "len(os.listdir(\"D:/Projects/Research/Train_test_val/test/Fire\"))"
      ]
    },
    {
      "cell_type": "code",
      "execution_count": null,
      "metadata": {
        "id": "i5heqQucaKYt",
        "outputId": "679340dc-492f-4caf-cc0f-de278557674a"
      },
      "outputs": [
        {
          "data": {
            "text/plain": [
              "1032"
            ]
          },
          "execution_count": 10,
          "metadata": {},
          "output_type": "execute_result"
        }
      ],
      "source": [
        "len(os.listdir(\"D:/Projects/Research/Train_test_val/test/Non-fire\"))"
      ]
    },
    {
      "cell_type": "code",
      "execution_count": null,
      "metadata": {
        "id": "LBdg53b5aKYt",
        "outputId": "394b0a59-0324-4a3f-d003-42affbea9371"
      },
      "outputs": [
        {
          "data": {
            "text/plain": [
              "1000"
            ]
          },
          "execution_count": 11,
          "metadata": {},
          "output_type": "execute_result"
        }
      ],
      "source": [
        "len(os.listdir(\"D:/Projects/Research/Train_test_val/val/Fire\"))"
      ]
    },
    {
      "cell_type": "code",
      "execution_count": null,
      "metadata": {
        "id": "jO70iTuNaKYt",
        "outputId": "4cbeb88e-e119-454b-e5f7-cccb712e462b"
      },
      "outputs": [
        {
          "data": {
            "text/plain": [
              "1031"
            ]
          },
          "execution_count": 12,
          "metadata": {},
          "output_type": "execute_result"
        }
      ],
      "source": [
        "len(os.listdir(\"D:/Projects/Research/Train_test_val/val/Non-fire\"))"
      ]
    },
    {
      "cell_type": "code",
      "execution_count": null,
      "metadata": {
        "id": "Ie17WOaIaKYu"
      },
      "outputs": [],
      "source": [
        "#val\n",
        "x_train = []\n",
        "y_train = []\n",
        "x_val = []\n",
        "y_val = []\n",
        "x_test = []\n",
        "y_test = []\n",
        "\n",
        "for feature, label in train_data:\n",
        "  x_train.append(feature)\n",
        "  y_train.append(label)\n",
        "\n",
        "for feature, label in val_data:\n",
        "  x_val.append(feature)\n",
        "  y_val.append(label)\n",
        "\n",
        "for feature, label in test_data:\n",
        "  x_test.append(feature)\n",
        "  y_test.append(label)"
      ]
    },
    {
      "cell_type": "code",
      "execution_count": null,
      "metadata": {
        "id": "nZ4-Z_hzaKYu"
      },
      "outputs": [],
      "source": [
        "# Normalize the data\n",
        "x_train = np.array(x_train) / 255\n",
        "x_val = np.array(x_val) / 255\n",
        "x_test=np.array(x_test)/255\n",
        "\n",
        "x_train.reshape(-1, img_size, img_size, 1)\n",
        "y_train = np.array(y_train)\n",
        "\n",
        "x_val.reshape(-1, img_size, img_size, 1)\n",
        "y_val = np.array(y_val)\n",
        "\n",
        "x_test.reshape(-1, img_size, img_size, 1)\n",
        "y_test = np.array(y_test)"
      ]
    },
    {
      "cell_type": "code",
      "execution_count": null,
      "metadata": {
        "id": "YgPt6-BXaKYu",
        "outputId": "59f23021-60bc-4fbf-a319-146d6679a39c"
      },
      "outputs": [
        {
          "name": "stdout",
          "output_type": "stream",
          "text": [
            "x_train: (9479, 64, 64, 3)\n",
            "y_train: (9479,)\n",
            "x_test: (2032, 64, 64, 3)\n",
            "y_test: (2032,)\n",
            "x_val: (2031, 64, 64, 3)\n",
            "y_val: (2031,)\n",
            "[[[[0.36078431 0.18039216 0.18823529]\n",
            "   [0.41568627 0.18431373 0.16078431]\n",
            "   [0.41568627 0.18431373 0.16078431]\n",
            "   ...\n",
            "   [0.4        0.17254902 0.2       ]\n",
            "   [0.34509804 0.21568627 0.21176471]\n",
            "   [0.27058824 0.18823529 0.22745098]]\n",
            "\n",
            "  [[0.32156863 0.18823529 0.18823529]\n",
            "   [0.35686275 0.19215686 0.16862745]\n",
            "   [0.35686275 0.17647059 0.15686275]\n",
            "   ...\n",
            "   [0.4745098  0.19215686 0.20392157]\n",
            "   [0.33333333 0.17647059 0.16862745]\n",
            "   [0.30980392 0.18431373 0.2       ]]\n",
            "\n",
            "  [[0.34901961 0.18823529 0.17254902]\n",
            "   [0.36078431 0.18431373 0.15294118]\n",
            "   [0.34509804 0.18431373 0.16078431]\n",
            "   ...\n",
            "   [0.64705882 0.20392157 0.12156863]\n",
            "   [0.45882353 0.19215686 0.15686275]\n",
            "   [0.4        0.2        0.20784314]]\n",
            "\n",
            "  ...\n",
            "\n",
            "  [[0.25882353 0.19607843 0.24705882]\n",
            "   [0.26666667 0.20392157 0.25490196]\n",
            "   [0.27058824 0.20784314 0.25882353]\n",
            "   ...\n",
            "   [0.19215686 0.16078431 0.21176471]\n",
            "   [0.22352941 0.18823529 0.25490196]\n",
            "   [0.20784314 0.17254902 0.24705882]]\n",
            "\n",
            "  [[0.25098039 0.19607843 0.25098039]\n",
            "   [0.25882353 0.19607843 0.24705882]\n",
            "   [0.27843137 0.20784314 0.25882353]\n",
            "   ...\n",
            "   [0.2        0.16078431 0.21176471]\n",
            "   [0.23137255 0.19607843 0.2627451 ]\n",
            "   [0.24313725 0.20784314 0.28235294]]\n",
            "\n",
            "  [[0.28235294 0.23921569 0.30980392]\n",
            "   [0.29411765 0.24313725 0.31372549]\n",
            "   [0.28235294 0.24705882 0.31372549]\n",
            "   ...\n",
            "   [0.2        0.15294118 0.21960784]\n",
            "   [0.24705882 0.21568627 0.29803922]\n",
            "   [0.25490196 0.23529412 0.32156863]]]\n",
            "\n",
            "\n",
            " [[[0.03529412 0.03921569 0.05490196]\n",
            "   [0.03137255 0.03137255 0.04705882]\n",
            "   [0.01960784 0.02352941 0.03921569]\n",
            "   ...\n",
            "   [0.03137255 0.03529412 0.04313725]\n",
            "   [0.0627451  0.07843137 0.09411765]\n",
            "   [0.         0.         0.        ]]\n",
            "\n",
            "  [[0.03921569 0.04313725 0.05882353]\n",
            "   [0.03529412 0.03921569 0.05490196]\n",
            "   [0.04313725 0.04705882 0.0627451 ]\n",
            "   ...\n",
            "   [0.01960784 0.02745098 0.03529412]\n",
            "   [0.15686275 0.18431373 0.20784314]\n",
            "   [0.         0.         0.00784314]]\n",
            "\n",
            "  [[0.04705882 0.0627451  0.0745098 ]\n",
            "   [0.04705882 0.05098039 0.06666667]\n",
            "   [0.04705882 0.05098039 0.05882353]\n",
            "   ...\n",
            "   [0.01960784 0.02352941 0.03921569]\n",
            "   [0.03921569 0.05490196 0.06666667]\n",
            "   [0.00392157 0.00784314 0.01568627]]\n",
            "\n",
            "  ...\n",
            "\n",
            "  [[0.72156863 0.4627451  0.1372549 ]\n",
            "   [0.7372549  0.50980392 0.12156863]\n",
            "   [0.69411765 0.48235294 0.11372549]\n",
            "   ...\n",
            "   [0.17254902 0.17647059 0.21176471]\n",
            "   [0.12941176 0.14117647 0.17647059]\n",
            "   [0.23529412 0.24313725 0.29019608]]\n",
            "\n",
            "  [[0.7254902  0.47058824 0.14901961]\n",
            "   [0.85098039 0.72156863 0.36078431]\n",
            "   [0.78823529 0.61568627 0.20784314]\n",
            "   ...\n",
            "   [0.16470588 0.17254902 0.21960784]\n",
            "   [0.19215686 0.20392157 0.23921569]\n",
            "   [0.19607843 0.20392157 0.25098039]]\n",
            "\n",
            "  [[0.61568627 0.3372549  0.09411765]\n",
            "   [0.77647059 0.6        0.18823529]\n",
            "   [0.75686275 0.55294118 0.15686275]\n",
            "   ...\n",
            "   [0.2        0.20392157 0.25098039]\n",
            "   [0.2745098  0.28235294 0.33333333]\n",
            "   [0.24313725 0.25098039 0.29803922]]]\n",
            "\n",
            "\n",
            " [[[0.52941176 0.27058824 0.32156863]\n",
            "   [0.4627451  0.24313725 0.31764706]\n",
            "   [0.51372549 0.27058824 0.34509804]\n",
            "   ...\n",
            "   [0.16470588 0.11372549 0.16470588]\n",
            "   [0.14509804 0.1254902  0.16470588]\n",
            "   [0.14509804 0.1254902  0.16470588]]\n",
            "\n",
            "  [[0.5254902  0.28235294 0.35686275]\n",
            "   [0.44313725 0.21568627 0.29803922]\n",
            "   [0.4627451  0.25490196 0.3254902 ]\n",
            "   ...\n",
            "   [0.16078431 0.10980392 0.17254902]\n",
            "   [0.15686275 0.11372549 0.17254902]\n",
            "   [0.15686275 0.12156863 0.17647059]]\n",
            "\n",
            "  [[0.39607843 0.27058824 0.39607843]\n",
            "   [0.58823529 0.39215686 0.5254902 ]\n",
            "   [0.44705882 0.29411765 0.39607843]\n",
            "   ...\n",
            "   [0.15686275 0.11372549 0.17254902]\n",
            "   [0.15294118 0.11372549 0.17254902]\n",
            "   [0.15294118 0.11764706 0.17647059]]\n",
            "\n",
            "  ...\n",
            "\n",
            "  [[0.29803922 0.2        0.36078431]\n",
            "   [0.2        0.11764706 0.25098039]\n",
            "   [0.17647059 0.11372549 0.24705882]\n",
            "   ...\n",
            "   [0.12156863 0.08627451 0.21960784]\n",
            "   [0.27843137 0.17647059 0.39607843]\n",
            "   [0.51764706 0.36862745 0.64313725]]\n",
            "\n",
            "  [[0.10588235 0.11372549 0.19215686]\n",
            "   [0.18039216 0.14117647 0.25490196]\n",
            "   [0.16862745 0.11372549 0.26666667]\n",
            "   ...\n",
            "   [0.19607843 0.15686275 0.23137255]\n",
            "   [0.28235294 0.17647059 0.36078431]\n",
            "   [0.49019608 0.34117647 0.59607843]]\n",
            "\n",
            "  [[0.16862745 0.19215686 0.29019608]\n",
            "   [0.10980392 0.11372549 0.20784314]\n",
            "   [0.14509804 0.10980392 0.23137255]\n",
            "   ...\n",
            "   [0.16862745 0.1372549  0.24705882]\n",
            "   [0.14509804 0.12156863 0.21176471]\n",
            "   [0.41176471 0.33333333 0.49411765]]]\n",
            "\n",
            "\n",
            " ...\n",
            "\n",
            "\n",
            " [[[0.03921569 0.02352941 0.10196078]\n",
            "   [0.04313725 0.02352941 0.10196078]\n",
            "   [0.06666667 0.04705882 0.1254902 ]\n",
            "   ...\n",
            "   [0.06666667 0.05098039 0.10588235]\n",
            "   [0.01960784 0.01176471 0.07843137]\n",
            "   [0.05882353 0.04705882 0.12941176]]\n",
            "\n",
            "  [[0.01176471 0.00784314 0.0745098 ]\n",
            "   [0.03921569 0.02352941 0.10196078]\n",
            "   [0.03529412 0.01568627 0.09411765]\n",
            "   ...\n",
            "   [0.03921569 0.02352941 0.09019608]\n",
            "   [0.03529412 0.01568627 0.09019608]\n",
            "   [0.03529412 0.01568627 0.09411765]]\n",
            "\n",
            "  [[0.03137255 0.01960784 0.09411765]\n",
            "   [0.03529412 0.01176471 0.09019608]\n",
            "   [0.04705882 0.02745098 0.10588235]\n",
            "   ...\n",
            "   [0.04313725 0.02352941 0.10196078]\n",
            "   [0.03921569 0.01960784 0.09019608]\n",
            "   [0.05098039 0.02745098 0.09411765]]\n",
            "\n",
            "  ...\n",
            "\n",
            "  [[0.03921569 0.03529412 0.10588235]\n",
            "   [0.03921569 0.03529412 0.10588235]\n",
            "   [0.03921569 0.03529412 0.10588235]\n",
            "   ...\n",
            "   [0.04705882 0.03529412 0.10980392]\n",
            "   [0.04705882 0.03529412 0.11372549]\n",
            "   [0.04705882 0.03529412 0.11764706]]\n",
            "\n",
            "  [[0.03921569 0.03137255 0.10588235]\n",
            "   [0.03529412 0.03137255 0.10196078]\n",
            "   [0.03921569 0.03529412 0.10588235]\n",
            "   ...\n",
            "   [0.04313725 0.03529412 0.10980392]\n",
            "   [0.04313725 0.03137255 0.11372549]\n",
            "   [0.04705882 0.03529412 0.11764706]]\n",
            "\n",
            "  [[0.03137255 0.02352941 0.10588235]\n",
            "   [0.03921569 0.01960784 0.10588235]\n",
            "   [0.03529412 0.02352941 0.10588235]\n",
            "   ...\n",
            "   [0.03529412 0.02352941 0.10588235]\n",
            "   [0.04313725 0.02352941 0.11372549]\n",
            "   [0.03921569 0.01960784 0.10980392]]]\n",
            "\n",
            "\n",
            " [[[0.09019608 0.09411765 0.09803922]\n",
            "   [0.03529412 0.01568627 0.01960784]\n",
            "   [0.03921569 0.02745098 0.00784314]\n",
            "   ...\n",
            "   [0.03529412 0.01568627 0.        ]\n",
            "   [0.03529412 0.01568627 0.00392157]\n",
            "   [0.02352941 0.00784314 0.        ]]\n",
            "\n",
            "  [[0.07843137 0.12941176 0.16470588]\n",
            "   [0.1372549  0.17254902 0.20392157]\n",
            "   [0.00784314 0.00392157 0.        ]\n",
            "   ...\n",
            "   [0.03137255 0.01176471 0.        ]\n",
            "   [0.03137255 0.01176471 0.        ]\n",
            "   [0.03529412 0.01960784 0.01176471]]\n",
            "\n",
            "  [[0.02352941 0.04705882 0.06666667]\n",
            "   [0.22745098 0.28627451 0.34901961]\n",
            "   [0.15294118 0.16862745 0.19607843]\n",
            "   ...\n",
            "   [0.03921569 0.01960784 0.00392157]\n",
            "   [0.05098039 0.03137255 0.01960784]\n",
            "   [0.05098039 0.03529412 0.02352941]]\n",
            "\n",
            "  ...\n",
            "\n",
            "  [[0.01568627 0.01568627 0.00784314]\n",
            "   [0.01960784 0.01960784 0.01176471]\n",
            "   [0.01176471 0.01176471 0.01176471]\n",
            "   ...\n",
            "   [0.01568627 0.01568627 0.00392157]\n",
            "   [0.01960784 0.01960784 0.01960784]\n",
            "   [0.01568627 0.01568627 0.00784314]]\n",
            "\n",
            "  [[0.02352941 0.02352941 0.01568627]\n",
            "   [0.01176471 0.01176471 0.00392157]\n",
            "   [0.01176471 0.01176471 0.01176471]\n",
            "   ...\n",
            "   [0.01568627 0.01960784 0.        ]\n",
            "   [0.01568627 0.01568627 0.00784314]\n",
            "   [0.01960784 0.01960784 0.01176471]]\n",
            "\n",
            "  [[0.00784314 0.00784314 0.00784314]\n",
            "   [0.01176471 0.01176471 0.01176471]\n",
            "   [0.00784314 0.00784314 0.00784314]\n",
            "   ...\n",
            "   [0.03529412 0.03137255 0.01568627]\n",
            "   [0.03137255 0.02745098 0.01176471]\n",
            "   [0.03529412 0.03137255 0.01568627]]]\n",
            "\n",
            "\n",
            " [[[0.         0.         0.        ]\n",
            "   [0.         0.         0.        ]\n",
            "   [0.         0.         0.        ]\n",
            "   ...\n",
            "   [0.07058824 0.05882353 0.07058824]\n",
            "   [0.07058824 0.0627451  0.08235294]\n",
            "   [0.0745098  0.06666667 0.08627451]]\n",
            "\n",
            "  [[0.00392157 0.00392157 0.00392157]\n",
            "   [0.         0.         0.        ]\n",
            "   [0.         0.         0.        ]\n",
            "   ...\n",
            "   [0.10980392 0.07843137 0.09803922]\n",
            "   [0.09803922 0.07843137 0.10196078]\n",
            "   [0.10196078 0.08235294 0.10588235]]\n",
            "\n",
            "  [[0.00392157 0.00392157 0.00392157]\n",
            "   [0.         0.         0.        ]\n",
            "   [0.         0.         0.        ]\n",
            "   ...\n",
            "   [0.14509804 0.10980392 0.12941176]\n",
            "   [0.13333333 0.09803922 0.12941176]\n",
            "   [0.11764706 0.09019608 0.11764706]]\n",
            "\n",
            "  ...\n",
            "\n",
            "  [[0.05098039 0.01176471 0.00784314]\n",
            "   [0.01176471 0.00784314 0.        ]\n",
            "   [0.00784314 0.00392157 0.        ]\n",
            "   ...\n",
            "   [0.10196078 0.02745098 0.00392157]\n",
            "   [0.09411765 0.02352941 0.00392157]\n",
            "   [0.07843137 0.01960784 0.        ]]\n",
            "\n",
            "  [[0.02352941 0.00784314 0.00392157]\n",
            "   [0.00392157 0.         0.        ]\n",
            "   [0.00784314 0.00392157 0.        ]\n",
            "   ...\n",
            "   [0.09411765 0.         0.        ]\n",
            "   [0.09019608 0.00784314 0.00392157]\n",
            "   [0.06666667 0.00392157 0.00392157]]\n",
            "\n",
            "  [[0.03137255 0.         0.00392157]\n",
            "   [0.01176471 0.         0.        ]\n",
            "   [0.01960784 0.00392157 0.        ]\n",
            "   ...\n",
            "   [0.03529412 0.00392157 0.        ]\n",
            "   [0.03529412 0.00392157 0.        ]\n",
            "   [0.03529412 0.         0.        ]]]]\n"
          ]
        }
      ],
      "source": [
        "print(\"x_train:\",x_train.shape)\n",
        "print(\"y_train:\",y_train.shape)\n",
        "print(\"x_test:\",x_test.shape)\n",
        "print(\"y_test:\",y_test.shape)\n",
        "print(\"x_val:\",x_val.shape)\n",
        "print(\"y_val:\",y_val.shape)\n",
        "print(x_train)"
      ]
    },
    {
      "cell_type": "code",
      "execution_count": null,
      "metadata": {
        "id": "bsSIxzvuaKYu"
      },
      "outputs": [],
      "source": [
        "x_train = np.array(x_train).reshape(9479,1,64,64, 3)\n",
        "x_test = np.array(x_test).reshape(2032, 1, 64, 64, 3)\n",
        "x_val = np.array(x_val).reshape(2031, 1, 64, 64, 3)\n"
      ]
    },
    {
      "cell_type": "code",
      "source": [
        "model = Sequential()\n",
        "\n",
        "model.add(Conv2D(32, (3, 3), activation='relu', input_shape=(None,64,64,3))\n",
        "model.add(MaxPooling2D((2, 2)))\n",
        "model.add(Conv2D(64, (3, 3), activation='relu'))\n",
        "model.add(MaxPooling2D((2, 2))\n",
        "model.add(Flatten())\n",
        "\n",
        "model.add(Reshape((1, 4096)))\n",
        "model.add(LSTM(128, return_sequences=True, dropout=0.2, recurrent_dropout=0.2, kernel_regularizer=l2(0.01), recurrent_regularizer=l2(0.01)))\n",
        "\n",
        "\n",
        "model.add(Dense(64, activation='relu'))\n",
        "model.add(Dropout(0.5))\n",
        "model.add(Dense(1, activation='sigmoid'))\n",
        "\n",
        "model.summary()\n"
      ],
      "metadata": {
        "id": "fPG87r4l67lG"
      },
      "execution_count": null,
      "outputs": []
    },
    {
      "cell_type": "code",
      "execution_count": null,
      "metadata": {
        "id": "7H6C7ztlfPhG"
      },
      "outputs": [],
      "source": [
        "\n",
        "model.compile(optimizer='adam', loss='binary_crossentropy', metrics=['accuracy'])\n"
      ]
    },
    {
      "cell_type": "code",
      "execution_count": null,
      "metadata": {
        "id": "KF7Lgkf8aKYu",
        "outputId": "803a0fb7-27c0-41b9-b267-f5e3826c63ac"
      },
      "outputs": [
        {
          "data": {
            "text/plain": [
              "[<keras.src.layers.rnn.time_distributed.TimeDistributed at 0x23afb2c4f50>,\n",
              " <keras.src.layers.rnn.time_distributed.TimeDistributed at 0x23afb805350>,\n",
              " <keras.src.layers.rnn.time_distributed.TimeDistributed at 0x23afb597a50>,\n",
              " <keras.src.layers.rnn.time_distributed.TimeDistributed at 0x23ae9bf0a50>,\n",
              " <keras.src.layers.rnn.time_distributed.TimeDistributed at 0x23afb913610>,\n",
              " <keras.src.layers.rnn.lstm.LSTM at 0x23afb913150>,\n",
              " <keras.src.layers.core.dense.Dense at 0x23aea540a90>]"
            ]
          },
          "execution_count": 26,
          "metadata": {},
          "output_type": "execute_result"
        }
      ],
      "source": [
        "model.layers"
      ]
    },
    {
      "cell_type": "code",
      "execution_count": null,
      "metadata": {
        "id": "NGgBXAogaKYv",
        "outputId": "fbb9f55b-61a0-4147-82a8-6ce411895ab7"
      },
      "outputs": [
        {
          "name": "stdout",
          "output_type": "stream",
          "text": [
            "Epoch 1/25\n",
            "297/297 [==============================] - 50s 150ms/step - loss: 0.3940 - accuracy: 0.8237 - val_loss: 0.3649 - val_accuracy: 0.8375\n",
            "Epoch 2/25\n",
            "297/297 [==============================] - 43s 144ms/step - loss: 0.3270 - accuracy: 0.8612 - val_loss: 0.3380 - val_accuracy: 0.8518\n",
            "Epoch 3/25\n",
            "297/297 [==============================] - 42s 143ms/step - loss: 0.2750 - accuracy: 0.8850 - val_loss: 0.3058 - val_accuracy: 0.8676\n",
            "Epoch 4/25\n",
            "297/297 [==============================] - 42s 143ms/step - loss: 0.2344 - accuracy: 0.9036 - val_loss: 0.3533 - val_accuracy: 0.8449\n",
            "Epoch 5/25\n",
            "297/297 [==============================] - 42s 143ms/step - loss: 0.1880 - accuracy: 0.9241 - val_loss: 0.3570 - val_accuracy: 0.8735\n",
            "Epoch 6/25\n",
            "297/297 [==============================] - 43s 143ms/step - loss: 0.1414 - accuracy: 0.9439 - val_loss: 0.3321 - val_accuracy: 0.8735\n",
            "Epoch 7/25\n",
            "297/297 [==============================] - 43s 143ms/step - loss: 0.0913 - accuracy: 0.9661 - val_loss: 0.3949 - val_accuracy: 0.8690\n",
            "Epoch 8/25\n",
            "297/297 [==============================] - 44s 147ms/step - loss: 0.0503 - accuracy: 0.9861 - val_loss: 0.4328 - val_accuracy: 0.8720\n",
            "Epoch 9/25\n",
            "297/297 [==============================] - 43s 145ms/step - loss: 0.0293 - accuracy: 0.9925 - val_loss: 0.5025 - val_accuracy: 0.8720\n",
            "Epoch 10/25\n",
            "297/297 [==============================] - 43s 144ms/step - loss: 0.0170 - accuracy: 0.9951 - val_loss: 0.5860 - val_accuracy: 0.8656\n",
            "Epoch 11/25\n",
            "297/297 [==============================] - 43s 145ms/step - loss: 0.0224 - accuracy: 0.9925 - val_loss: 0.5385 - val_accuracy: 0.8740\n",
            "Epoch 12/25\n",
            "297/297 [==============================] - 43s 145ms/step - loss: 0.0137 - accuracy: 0.9954 - val_loss: 0.6003 - val_accuracy: 0.8725\n",
            "Epoch 13/25\n",
            "297/297 [==============================] - 43s 145ms/step - loss: 0.0078 - accuracy: 0.9968 - val_loss: 0.6097 - val_accuracy: 0.8749\n",
            "Epoch 14/25\n",
            "297/297 [==============================] - 43s 145ms/step - loss: 0.0057 - accuracy: 0.9973 - val_loss: 0.6297 - val_accuracy: 0.8764\n",
            "Epoch 15/25\n",
            "297/297 [==============================] - 43s 146ms/step - loss: 0.0048 - accuracy: 0.9976 - val_loss: 0.6326 - val_accuracy: 0.8720\n",
            "Epoch 16/25\n",
            "297/297 [==============================] - 43s 145ms/step - loss: 0.0045 - accuracy: 0.9973 - val_loss: 0.6544 - val_accuracy: 0.8769\n",
            "Epoch 17/25\n",
            "297/297 [==============================] - 43s 146ms/step - loss: 0.0045 - accuracy: 0.9970 - val_loss: 0.6662 - val_accuracy: 0.8710\n",
            "Epoch 18/25\n",
            "297/297 [==============================] - 43s 146ms/step - loss: 0.0042 - accuracy: 0.9968 - val_loss: 0.6744 - val_accuracy: 0.8735\n",
            "Epoch 19/25\n",
            "297/297 [==============================] - 44s 147ms/step - loss: 0.0038 - accuracy: 0.9973 - val_loss: 0.7174 - val_accuracy: 0.8740\n",
            "Epoch 20/25\n",
            "297/297 [==============================] - 44s 148ms/step - loss: 0.0036 - accuracy: 0.9976 - val_loss: 0.7367 - val_accuracy: 0.8735\n",
            "Epoch 21/25\n",
            "297/297 [==============================] - 43s 146ms/step - loss: 0.0036 - accuracy: 0.9975 - val_loss: 0.7288 - val_accuracy: 0.8730\n",
            "Epoch 22/25\n",
            "297/297 [==============================] - 43s 146ms/step - loss: 0.0035 - accuracy: 0.9976 - val_loss: 0.7385 - val_accuracy: 0.8695\n",
            "Epoch 23/25\n",
            "297/297 [==============================] - 44s 147ms/step - loss: 0.0034 - accuracy: 0.9976 - val_loss: 0.7686 - val_accuracy: 0.8735\n",
            "Epoch 24/25\n",
            "297/297 [==============================] - 43s 145ms/step - loss: 0.0033 - accuracy: 0.9976 - val_loss: 0.7816 - val_accuracy: 0.8715\n",
            "Epoch 25/25\n",
            "297/297 [==============================] - 43s 145ms/step - loss: 0.0034 - accuracy: 0.9973 - val_loss: 0.7797 - val_accuracy: 0.8725\n"
          ]
        }
      ],
      "source": [
        "history = model.fit(x_train,y_train,epochs = 25,validation_data = (x_val, y_val),shuffle=True,batch_size=32)"
      ]
    },
    {
      "cell_type": "code",
      "execution_count": null,
      "metadata": {
        "id": "zQ0z_lQQaKYv",
        "outputId": "197bf375-0c5e-4f1f-db31-a32e954ad65d"
      },
      "outputs": [
        {
          "name": "stdout",
          "output_type": "stream",
          "text": [
            "64/64 [==============================] - 1s 22ms/step\n",
            "              precision    recall  f1-score   support\n",
            "\n",
            "           0       0.87      0.87      0.87      1001\n",
            "           1       0.87      0.87      0.87      1031\n",
            "\n",
            "    accuracy                           0.87      2032\n",
            "   macro avg       0.87      0.87      0.87      2032\n",
            "weighted avg       0.87      0.87      0.87      2032\n",
            "\n"
          ]
        }
      ],
      "source": [
        "predictions = model.predict(x_test)\n",
        "pred=np.argmax(predictions,axis=1)\n",
        "pred = pred.reshape(1,-1)[0]\n",
        "print(classification_report(y_test,pred))"
      ]
    },
    {
      "cell_type": "code",
      "execution_count": null,
      "metadata": {
        "id": "fukEtYYtaKYv",
        "outputId": "9804b8fc-b6d3-497d-bcae-a5580e2eb5e8"
      },
      "outputs": [
        {
          "name": "stdout",
          "output_type": "stream",
          "text": [
            "64/64 [==============================] - 1s 21ms/step - loss: 0.7698 - accuracy: 0.8716\n"
          ]
        },
        {
          "data": {
            "text/plain": [
              "[0.7697726488113403, 0.8715550899505615]"
            ]
          },
          "execution_count": 31,
          "metadata": {},
          "output_type": "execute_result"
        }
      ],
      "source": [
        "model.evaluate(x_test,y_test,batch_size=32)"
      ]
    },
    {
      "cell_type": "code",
      "execution_count": null,
      "metadata": {
        "id": "wmrvapO_aKYv",
        "outputId": "d34078a5-be06-4f9d-ca68-f1b8199ab2b8"
      },
      "outputs": [
        {
          "name": "stdout",
          "output_type": "stream",
          "text": [
            "297/297 [==============================] - 6s 21ms/step\n",
            "              precision    recall  f1-score   support\n",
            "\n",
            "           0       1.00      1.00      1.00      4667\n",
            "           1       1.00      1.00      1.00      4812\n",
            "\n",
            "    accuracy                           1.00      9479\n",
            "   macro avg       1.00      1.00      1.00      9479\n",
            "weighted avg       1.00      1.00      1.00      9479\n",
            "\n"
          ]
        }
      ],
      "source": [
        "#on training data\n",
        "predictions = model.predict(x_train)\n",
        "pred_train=np.argmax(predictions,axis=1)\n",
        "pred_train = pred_train.reshape(1,-1)[0]\n",
        "print(classification_report(y_train,pred_train))"
      ]
    },
    {
      "cell_type": "code",
      "execution_count": null,
      "metadata": {
        "id": "HQ3gSAfVaKYv"
      },
      "outputs": [],
      "source": []
    },
    {
      "cell_type": "code",
      "execution_count": null,
      "metadata": {
        "id": "EpO5IDDhaKYv"
      },
      "outputs": [],
      "source": []
    },
    {
      "cell_type": "code",
      "execution_count": null,
      "metadata": {
        "id": "k40Z0CbgaKYv"
      },
      "outputs": [],
      "source": []
    },
    {
      "cell_type": "code",
      "execution_count": null,
      "metadata": {
        "id": "BhR6b8zfaKYv",
        "outputId": "495690fa-b6e8-4475-f3e3-b07b281cc426"
      },
      "outputs": [
        {
          "ename": "ValueError",
          "evalue": "Input 0 of layer \"lstm\" is incompatible with the layer: expected ndim=3, found ndim=5. Full shape received: (None, None, 64, 64, 32)",
          "output_type": "error",
          "traceback": [
            "\u001b[1;31m---------------------------------------------------------------------------\u001b[0m",
            "\u001b[1;31mValueError\u001b[0m                                Traceback (most recent call last)",
            "\u001b[1;32md:\\Projects\\Research\\cnn-lstm.ipynb Cell 20\u001b[0m line \u001b[0;36m4\n\u001b[0;32m      <a href='vscode-notebook-cell:/d%3A/Projects/Research/cnn-lstm.ipynb#X30sZmlsZQ%3D%3D?line=0'>1</a>\u001b[0m model \u001b[39m=\u001b[39m Sequential()\n\u001b[0;32m      <a href='vscode-notebook-cell:/d%3A/Projects/Research/cnn-lstm.ipynb#X30sZmlsZQ%3D%3D?line=1'>2</a>\u001b[0m model\u001b[39m.\u001b[39madd(Conv2D(\u001b[39m32\u001b[39m,(\u001b[39m3\u001b[39m,\u001b[39m3\u001b[39m),padding\u001b[39m=\u001b[39m\u001b[39m\"\u001b[39m\u001b[39msame\u001b[39m\u001b[39m\"\u001b[39m, activation\u001b[39m=\u001b[39m\u001b[39m\"\u001b[39m\u001b[39mrelu\u001b[39m\u001b[39m\"\u001b[39m, input_shape\u001b[39m=\u001b[39m(\u001b[39mNone\u001b[39;00m,\u001b[39m64\u001b[39m,\u001b[39m64\u001b[39m,\u001b[39m3\u001b[39m)))\n\u001b[1;32m----> <a href='vscode-notebook-cell:/d%3A/Projects/Research/cnn-lstm.ipynb#X30sZmlsZQ%3D%3D?line=3'>4</a>\u001b[0m model\u001b[39m.\u001b[39;49madd(LSTM(\u001b[39m32\u001b[39;49m, return_sequences\u001b[39m=\u001b[39;49m\u001b[39mTrue\u001b[39;49;00m))\n\u001b[0;32m      <a href='vscode-notebook-cell:/d%3A/Projects/Research/cnn-lstm.ipynb#X30sZmlsZQ%3D%3D?line=4'>5</a>\u001b[0m model\u001b[39m.\u001b[39madd(MaxPool2D((\u001b[39m2\u001b[39m, \u001b[39m2\u001b[39m), strides\u001b[39m=\u001b[39m\u001b[39m2\u001b[39m))\n\u001b[0;32m      <a href='vscode-notebook-cell:/d%3A/Projects/Research/cnn-lstm.ipynb#X30sZmlsZQ%3D%3D?line=6'>7</a>\u001b[0m model\u001b[39m.\u001b[39madd(Conv2D(\u001b[39m32\u001b[39m, (\u001b[39m3\u001b[39m,\u001b[39m3\u001b[39m), padding\u001b[39m=\u001b[39m\u001b[39m\"\u001b[39m\u001b[39msame\u001b[39m\u001b[39m\"\u001b[39m, activation\u001b[39m=\u001b[39m\u001b[39m\"\u001b[39m\u001b[39mrelu\u001b[39m\u001b[39m\"\u001b[39m))\n",
            "File \u001b[1;32m~\\AppData\\Local\\Packages\\PythonSoftwareFoundation.Python.3.11_qbz5n2kfra8p0\\LocalCache\\local-packages\\Python311\\site-packages\\tensorflow\\python\\trackable\\base.py:204\u001b[0m, in \u001b[0;36mno_automatic_dependency_tracking.<locals>._method_wrapper\u001b[1;34m(self, *args, **kwargs)\u001b[0m\n\u001b[0;32m    202\u001b[0m \u001b[39mself\u001b[39m\u001b[39m.\u001b[39m_self_setattr_tracking \u001b[39m=\u001b[39m \u001b[39mFalse\u001b[39;00m  \u001b[39m# pylint: disable=protected-access\u001b[39;00m\n\u001b[0;32m    203\u001b[0m \u001b[39mtry\u001b[39;00m:\n\u001b[1;32m--> 204\u001b[0m   result \u001b[39m=\u001b[39m method(\u001b[39mself\u001b[39;49m, \u001b[39m*\u001b[39;49margs, \u001b[39m*\u001b[39;49m\u001b[39m*\u001b[39;49mkwargs)\n\u001b[0;32m    205\u001b[0m \u001b[39mfinally\u001b[39;00m:\n\u001b[0;32m    206\u001b[0m   \u001b[39mself\u001b[39m\u001b[39m.\u001b[39m_self_setattr_tracking \u001b[39m=\u001b[39m previous_value  \u001b[39m# pylint: disable=protected-access\u001b[39;00m\n",
            "File \u001b[1;32m~\\AppData\\Local\\Packages\\PythonSoftwareFoundation.Python.3.11_qbz5n2kfra8p0\\LocalCache\\local-packages\\Python311\\site-packages\\keras\\src\\utils\\traceback_utils.py:70\u001b[0m, in \u001b[0;36mfilter_traceback.<locals>.error_handler\u001b[1;34m(*args, **kwargs)\u001b[0m\n\u001b[0;32m     67\u001b[0m     filtered_tb \u001b[39m=\u001b[39m _process_traceback_frames(e\u001b[39m.\u001b[39m__traceback__)\n\u001b[0;32m     68\u001b[0m     \u001b[39m# To get the full stack trace, call:\u001b[39;00m\n\u001b[0;32m     69\u001b[0m     \u001b[39m# `tf.debugging.disable_traceback_filtering()`\u001b[39;00m\n\u001b[1;32m---> 70\u001b[0m     \u001b[39mraise\u001b[39;00m e\u001b[39m.\u001b[39mwith_traceback(filtered_tb) \u001b[39mfrom\u001b[39;00m \u001b[39mNone\u001b[39;00m\n\u001b[0;32m     71\u001b[0m \u001b[39mfinally\u001b[39;00m:\n\u001b[0;32m     72\u001b[0m     \u001b[39mdel\u001b[39;00m filtered_tb\n",
            "File \u001b[1;32m~\\AppData\\Local\\Packages\\PythonSoftwareFoundation.Python.3.11_qbz5n2kfra8p0\\LocalCache\\local-packages\\Python311\\site-packages\\keras\\src\\engine\\input_spec.py:235\u001b[0m, in \u001b[0;36massert_input_compatibility\u001b[1;34m(input_spec, inputs, layer_name)\u001b[0m\n\u001b[0;32m    233\u001b[0m     ndim \u001b[39m=\u001b[39m shape\u001b[39m.\u001b[39mrank\n\u001b[0;32m    234\u001b[0m     \u001b[39mif\u001b[39;00m ndim \u001b[39m!=\u001b[39m spec\u001b[39m.\u001b[39mndim:\n\u001b[1;32m--> 235\u001b[0m         \u001b[39mraise\u001b[39;00m \u001b[39mValueError\u001b[39;00m(\n\u001b[0;32m    236\u001b[0m             \u001b[39mf\u001b[39m\u001b[39m'\u001b[39m\u001b[39mInput \u001b[39m\u001b[39m{\u001b[39;00minput_index\u001b[39m}\u001b[39;00m\u001b[39m of layer \u001b[39m\u001b[39m\"\u001b[39m\u001b[39m{\u001b[39;00mlayer_name\u001b[39m}\u001b[39;00m\u001b[39m\"\u001b[39m\u001b[39m \u001b[39m\u001b[39m'\u001b[39m\n\u001b[0;32m    237\u001b[0m             \u001b[39m\"\u001b[39m\u001b[39mis incompatible with the layer: \u001b[39m\u001b[39m\"\u001b[39m\n\u001b[0;32m    238\u001b[0m             \u001b[39mf\u001b[39m\u001b[39m\"\u001b[39m\u001b[39mexpected ndim=\u001b[39m\u001b[39m{\u001b[39;00mspec\u001b[39m.\u001b[39mndim\u001b[39m}\u001b[39;00m\u001b[39m, found ndim=\u001b[39m\u001b[39m{\u001b[39;00mndim\u001b[39m}\u001b[39;00m\u001b[39m. \u001b[39m\u001b[39m\"\u001b[39m\n\u001b[0;32m    239\u001b[0m             \u001b[39mf\u001b[39m\u001b[39m\"\u001b[39m\u001b[39mFull shape received: \u001b[39m\u001b[39m{\u001b[39;00m\u001b[39mtuple\u001b[39m(shape)\u001b[39m}\u001b[39;00m\u001b[39m\"\u001b[39m\n\u001b[0;32m    240\u001b[0m         )\n\u001b[0;32m    241\u001b[0m \u001b[39mif\u001b[39;00m spec\u001b[39m.\u001b[39mmax_ndim \u001b[39mis\u001b[39;00m \u001b[39mnot\u001b[39;00m \u001b[39mNone\u001b[39;00m:\n\u001b[0;32m    242\u001b[0m     ndim \u001b[39m=\u001b[39m x\u001b[39m.\u001b[39mshape\u001b[39m.\u001b[39mrank\n",
            "\u001b[1;31mValueError\u001b[0m: Input 0 of layer \"lstm\" is incompatible with the layer: expected ndim=3, found ndim=5. Full shape received: (None, None, 64, 64, 32)"
          ]
        }
      ],
      "source": [
        "model = Sequential()\n",
        "model.add(Conv2D(32,(3,3),padding=\"same\", activation=\"relu\", input_shape=(None,64,64,3)))\n",
        "\n",
        "model.add(LSTM(32, return_sequences=True))\n",
        "model.add(MaxPool2D((2, 2), strides=2))\n",
        "\n",
        "model.add(Conv2D(32, (3,3), padding=\"same\", activation=\"relu\"))\n",
        "model.add(LSTM(64, return_sequences=True))\n",
        "model.add(MaxPool2D((2, 2), strides=2))\n",
        "\n",
        "model.add(Conv2D(64, (3,3), padding=\"same\", activation=\"relu\"))\n",
        "model.add(LSTM(128))\n",
        "model.add(MaxPool2D((2, 2), strides=2))\n",
        "\n",
        "model.add(Conv2D(64,(3,3), padding=\"same\", activation=\"relu\"))\n",
        "model.add(MaxPool2D((2, 2), strides=2))\n",
        "\n",
        "model.add(LSTM(32, return_sequences=True))\n",
        "model.add(LSTM(64, return_sequences=True))\n",
        "model.add(LSTM(128))\n",
        "\n",
        "model.add(Dropout(0.2))\n",
        "model.add(Flatten())\n",
        "model.add(Dense(128,activation=\"relu\"))\n",
        "\n",
        "model.add(Dense(84,activation=\"relu\"))\n",
        "model.add(Dense(32,activation=\"relu\"))\n",
        "\n",
        "model.add(Dense(2, activation=\"softmax\"))\n",
        "\n",
        "model.summary()"
      ]
    },
    {
      "cell_type": "code",
      "execution_count": null,
      "metadata": {
        "id": "7o7fFd6qaKYv",
        "outputId": "281915b6-4222-4315-fc19-dd55ea62b6b9"
      },
      "outputs": [
        {
          "ename": "ValueError",
          "evalue": "Input 0 of layer \"max_pooling2d_3\" is incompatible with the layer: expected ndim=4, found ndim=6. Full shape received: (None, None, 1, 62, 62, 32)",
          "output_type": "error",
          "traceback": [
            "\u001b[1;31m---------------------------------------------------------------------------\u001b[0m",
            "\u001b[1;31mValueError\u001b[0m                                Traceback (most recent call last)",
            "\u001b[1;32md:\\Projects\\Research\\cnn-lstm.ipynb Cell 21\u001b[0m line \u001b[0;36m3\n\u001b[0;32m      <a href='vscode-notebook-cell:/d%3A/Projects/Research/cnn-lstm.ipynb#X33sZmlsZQ%3D%3D?line=0'>1</a>\u001b[0m model \u001b[39m=\u001b[39m Sequential()\n\u001b[0;32m      <a href='vscode-notebook-cell:/d%3A/Projects/Research/cnn-lstm.ipynb#X33sZmlsZQ%3D%3D?line=1'>2</a>\u001b[0m model\u001b[39m.\u001b[39madd(Conv2D(\u001b[39m32\u001b[39m, (\u001b[39m3\u001b[39m, \u001b[39m3\u001b[39m), activation\u001b[39m=\u001b[39m\u001b[39m\"\u001b[39m\u001b[39mrelu\u001b[39m\u001b[39m\"\u001b[39m, input_shape\u001b[39m=\u001b[39m(\u001b[39mNone\u001b[39;00m,\u001b[39m1\u001b[39m,\u001b[39m64\u001b[39m,\u001b[39m64\u001b[39m, \u001b[39m3\u001b[39m)))\n\u001b[1;32m----> <a href='vscode-notebook-cell:/d%3A/Projects/Research/cnn-lstm.ipynb#X33sZmlsZQ%3D%3D?line=2'>3</a>\u001b[0m model\u001b[39m.\u001b[39;49madd(MaxPooling2D(pool_size\u001b[39m=\u001b[39;49m(\u001b[39m2\u001b[39;49m, \u001b[39m2\u001b[39;49m)))\n\u001b[0;32m      <a href='vscode-notebook-cell:/d%3A/Projects/Research/cnn-lstm.ipynb#X33sZmlsZQ%3D%3D?line=3'>4</a>\u001b[0m model\u001b[39m.\u001b[39madd(Conv2D(\u001b[39m64\u001b[39m, (\u001b[39m3\u001b[39m, \u001b[39m3\u001b[39m), activation\u001b[39m=\u001b[39m\u001b[39m\"\u001b[39m\u001b[39mrelu\u001b[39m\u001b[39m\"\u001b[39m))\n\u001b[0;32m      <a href='vscode-notebook-cell:/d%3A/Projects/Research/cnn-lstm.ipynb#X33sZmlsZQ%3D%3D?line=4'>5</a>\u001b[0m model\u001b[39m.\u001b[39madd(MaxPooling2D(pool_size\u001b[39m=\u001b[39m(\u001b[39m2\u001b[39m, \u001b[39m2\u001b[39m)))\n",
            "File \u001b[1;32m~\\AppData\\Local\\Packages\\PythonSoftwareFoundation.Python.3.11_qbz5n2kfra8p0\\LocalCache\\local-packages\\Python311\\site-packages\\tensorflow\\python\\trackable\\base.py:204\u001b[0m, in \u001b[0;36mno_automatic_dependency_tracking.<locals>._method_wrapper\u001b[1;34m(self, *args, **kwargs)\u001b[0m\n\u001b[0;32m    202\u001b[0m \u001b[39mself\u001b[39m\u001b[39m.\u001b[39m_self_setattr_tracking \u001b[39m=\u001b[39m \u001b[39mFalse\u001b[39;00m  \u001b[39m# pylint: disable=protected-access\u001b[39;00m\n\u001b[0;32m    203\u001b[0m \u001b[39mtry\u001b[39;00m:\n\u001b[1;32m--> 204\u001b[0m   result \u001b[39m=\u001b[39m method(\u001b[39mself\u001b[39;49m, \u001b[39m*\u001b[39;49margs, \u001b[39m*\u001b[39;49m\u001b[39m*\u001b[39;49mkwargs)\n\u001b[0;32m    205\u001b[0m \u001b[39mfinally\u001b[39;00m:\n\u001b[0;32m    206\u001b[0m   \u001b[39mself\u001b[39m\u001b[39m.\u001b[39m_self_setattr_tracking \u001b[39m=\u001b[39m previous_value  \u001b[39m# pylint: disable=protected-access\u001b[39;00m\n",
            "File \u001b[1;32m~\\AppData\\Local\\Packages\\PythonSoftwareFoundation.Python.3.11_qbz5n2kfra8p0\\LocalCache\\local-packages\\Python311\\site-packages\\keras\\src\\utils\\traceback_utils.py:70\u001b[0m, in \u001b[0;36mfilter_traceback.<locals>.error_handler\u001b[1;34m(*args, **kwargs)\u001b[0m\n\u001b[0;32m     67\u001b[0m     filtered_tb \u001b[39m=\u001b[39m _process_traceback_frames(e\u001b[39m.\u001b[39m__traceback__)\n\u001b[0;32m     68\u001b[0m     \u001b[39m# To get the full stack trace, call:\u001b[39;00m\n\u001b[0;32m     69\u001b[0m     \u001b[39m# `tf.debugging.disable_traceback_filtering()`\u001b[39;00m\n\u001b[1;32m---> 70\u001b[0m     \u001b[39mraise\u001b[39;00m e\u001b[39m.\u001b[39mwith_traceback(filtered_tb) \u001b[39mfrom\u001b[39;00m \u001b[39mNone\u001b[39;00m\n\u001b[0;32m     71\u001b[0m \u001b[39mfinally\u001b[39;00m:\n\u001b[0;32m     72\u001b[0m     \u001b[39mdel\u001b[39;00m filtered_tb\n",
            "File \u001b[1;32m~\\AppData\\Local\\Packages\\PythonSoftwareFoundation.Python.3.11_qbz5n2kfra8p0\\LocalCache\\local-packages\\Python311\\site-packages\\keras\\src\\engine\\input_spec.py:235\u001b[0m, in \u001b[0;36massert_input_compatibility\u001b[1;34m(input_spec, inputs, layer_name)\u001b[0m\n\u001b[0;32m    233\u001b[0m     ndim \u001b[39m=\u001b[39m shape\u001b[39m.\u001b[39mrank\n\u001b[0;32m    234\u001b[0m     \u001b[39mif\u001b[39;00m ndim \u001b[39m!=\u001b[39m spec\u001b[39m.\u001b[39mndim:\n\u001b[1;32m--> 235\u001b[0m         \u001b[39mraise\u001b[39;00m \u001b[39mValueError\u001b[39;00m(\n\u001b[0;32m    236\u001b[0m             \u001b[39mf\u001b[39m\u001b[39m'\u001b[39m\u001b[39mInput \u001b[39m\u001b[39m{\u001b[39;00minput_index\u001b[39m}\u001b[39;00m\u001b[39m of layer \u001b[39m\u001b[39m\"\u001b[39m\u001b[39m{\u001b[39;00mlayer_name\u001b[39m}\u001b[39;00m\u001b[39m\"\u001b[39m\u001b[39m \u001b[39m\u001b[39m'\u001b[39m\n\u001b[0;32m    237\u001b[0m             \u001b[39m\"\u001b[39m\u001b[39mis incompatible with the layer: \u001b[39m\u001b[39m\"\u001b[39m\n\u001b[0;32m    238\u001b[0m             \u001b[39mf\u001b[39m\u001b[39m\"\u001b[39m\u001b[39mexpected ndim=\u001b[39m\u001b[39m{\u001b[39;00mspec\u001b[39m.\u001b[39mndim\u001b[39m}\u001b[39;00m\u001b[39m, found ndim=\u001b[39m\u001b[39m{\u001b[39;00mndim\u001b[39m}\u001b[39;00m\u001b[39m. \u001b[39m\u001b[39m\"\u001b[39m\n\u001b[0;32m    239\u001b[0m             \u001b[39mf\u001b[39m\u001b[39m\"\u001b[39m\u001b[39mFull shape received: \u001b[39m\u001b[39m{\u001b[39;00m\u001b[39mtuple\u001b[39m(shape)\u001b[39m}\u001b[39;00m\u001b[39m\"\u001b[39m\n\u001b[0;32m    240\u001b[0m         )\n\u001b[0;32m    241\u001b[0m \u001b[39mif\u001b[39;00m spec\u001b[39m.\u001b[39mmax_ndim \u001b[39mis\u001b[39;00m \u001b[39mnot\u001b[39;00m \u001b[39mNone\u001b[39;00m:\n\u001b[0;32m    242\u001b[0m     ndim \u001b[39m=\u001b[39m x\u001b[39m.\u001b[39mshape\u001b[39m.\u001b[39mrank\n",
            "\u001b[1;31mValueError\u001b[0m: Input 0 of layer \"max_pooling2d_3\" is incompatible with the layer: expected ndim=4, found ndim=6. Full shape received: (None, None, 1, 62, 62, 32)"
          ]
        }
      ],
      "source": [
        "model = Sequential()\n",
        "model.add(Conv2D(32, (3, 3), activation=\"relu\", input_shape=(None,1,64,64, 3)))\n",
        "model.add(MaxPooling2D(pool_size=(2, 2)))\n",
        "model.add(Conv2D(64, (3, 3), activation=\"relu\"))\n",
        "model.add(MaxPooling2D(pool_size=(2, 2)))\n",
        "model.add(Flatten())\n",
        "model.add(LSTM(128, return_sequences=True))\n",
        "model.add(LSTM(64, return_sequences=False))\n",
        "model.add(Dense(64, activation=\"relu\"))\n",
        "model.add(Dropout(0.5))\n",
        "model.add(Dense(num_classes, activation=\"softmax\"))"
      ]
    },
    {
      "cell_type": "code",
      "execution_count": null,
      "metadata": {
        "id": "smcsLbDkaKYv"
      },
      "outputs": [],
      "source": [
        "# instantiate model\n",
        "model = Sequential()\n",
        "\n",
        "# add three time-distributed convolutional layers for feature extraction\n",
        "model.add(TimeDistributed(Conv2D(64, (3, 3), activation='relu'),input_shape=(1,150,150, 3)))\n",
        "model.add(TimeDistributed(MaxPooling2D((2, 2), strides=(1, 1))))\n",
        "\n",
        "model.add(TimeDistributed(Conv2D(128, (3,3), activation='relu')))\n",
        "model.add(TimeDistributed(MaxPooling2D((2, 2), strides=(2, 2))))\n",
        "\n",
        "model.add(TimeDistributed(Conv2D(128, (3,3), activation='relu')))\n",
        "model.add(TimeDistributed(MaxPooling2D((2, 2), strides=(2, 2))))\n",
        "\n",
        "model.add(TimeDistributed(Conv2D(256, (3,3), activation='relu')))\n",
        "model.add(TimeDistributed(MaxPooling2D((2, 2), strides=(2, 2))))\n",
        "\n",
        "model.add(TimeDistributed(Conv2D(256, (3,3), activation='relu')))\n",
        "model.add(TimeDistributed(MaxPooling2D((2, 2), strides=(2, 2))))\n",
        "\n",
        "# extract features and dropout\n",
        "model.add(TimeDistributed(Flatten()))\n",
        "model.add(Dropout(0.5))\n",
        "\n",
        "# input to LSTM\n",
        "model.add(LSTM(256, return_sequences=False, dropout=0.5))\n",
        "\n",
        "# classifier with sigmoid activation for multilabel\n",
        "model.add(Dense(2, activation='sigmoid'))\n",
        "\n",
        "# compile the model with binary_crossentropy loss for multilabel\n",
        "model.compile(optimizer='rmsprop', loss='sparse_categorical_crossentropy',metrics = ['accuracy'])\n",
        "\n",
        "# look at the params before training\n",
        "#model.summary()"
      ]
    },
    {
      "cell_type": "code",
      "execution_count": null,
      "metadata": {
        "id": "ac9KKRjjaKYw"
      },
      "outputs": [],
      "source": []
    }
  ],
  "metadata": {
    "colab": {
      "provenance": []
    },
    "kernelspec": {
      "display_name": "Python 3 (ipykernel)",
      "language": "python",
      "name": "python3"
    },
    "language_info": {
      "codemirror_mode": {
        "name": "ipython",
        "version": 3
      },
      "file_extension": ".py",
      "mimetype": "text/x-python",
      "name": "python",
      "nbconvert_exporter": "python",
      "pygments_lexer": "ipython3",
      "version": "3.11.3"
    }
  },
  "nbformat": 4,
  "nbformat_minor": 0
}